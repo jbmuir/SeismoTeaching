{
 "cells": [
  {
   "cell_type": "markdown",
   "metadata": {},
   "source": [
    "# Task # 2 - More advanced Python + Obspy"
   ]
  },
  {
   "cell_type": "markdown",
   "metadata": {},
   "source": [
    "Welcome to the first laboratory task of observational seismology. In this set of laboratories, we will learn the skills of modern observational seismology via the Python/Obspy workflow. Today, you will implement a basic seismological workflow; downloading, selecting, processing and plotting seismic waveforms."
   ]
  },
  {
   "cell_type": "markdown",
   "metadata": {},
   "source": [
    "## Importing modules\n",
    "\n",
    "The basic Python language contains only the tools necessary to construct programs, and little in the way of scientific computing infrastructure. When we want to have access to some additional software, we need to import it (compare against Matlab, where everything is accessible at once)."
   ]
  },
  {
   "cell_type": "code",
   "execution_count": 1,
   "metadata": {
    "collapsed": true
   },
   "outputs": [],
   "source": [
    "#We can import the obspy module, and give it a shorter name (PS as you can see, the # symbol starts a comment)\n",
    "import obspy as op #note we can start a comment after a line that has executable code on it.\n",
    "#matplotlib is a large plotting package, with a submodule pyplot that we can import by itself like this\n",
    "import matplotlib.pyplot as plt \n",
    "#normally plots open in their own window, but we want a nice cohesive document - we can set inline plots by using\n",
    "#the %matplotlib magic command (a magic command is not part of standard python, but instead a directive to the ipython\n",
    "#shell that runs under the hood of Jupyter, that automatically configures matplotlib correctly). \n",
    "%matplotlib inline "
   ]
  },
  {
   "cell_type": "code",
   "execution_count": 2,
   "metadata": {
    "collapsed": false
   },
   "outputs": [
    {
     "name": "stdout",
     "output_type": "stream",
     "text": [
      "10000000 loops, best of 3: 33.3 ns per loop\n"
     ]
    }
   ],
   "source": [
    "#Another useful magic command is %timeit, which runs tests to see how long it takes a particular statement to execute\n",
    "#for example:\n",
    "%timeit 1+1\n",
    "#will tell us how long it takes Python to add two integers on your computer (not very long!).\n",
    "#These magic commands will cause an error if you include them in a normal Python script, but they are very useful for\n",
    "#Jupyter notebooks and IPython sessions. "
   ]
  },
  {
   "cell_type": "markdown",
   "metadata": {},
   "source": [
    "One of the key cornerstones of the scientific Python platform is Numpy, which is a highly optimized library for multidimensional arrays. It allows us to perform vectorized operations, which is not a standard feature of Python. In the next section, there will be a lot of information, but the key thing to keep in focus is that Numpy allows us to operate on arrays. "
   ]
  },
  {
   "cell_type": "code",
   "execution_count": 16,
   "metadata": {
    "collapsed": false
   },
   "outputs": [
    {
     "name": "stdout",
     "output_type": "stream",
     "text": [
      "A list: [1, 2, 3, 4]\n",
      "An array: [1 2 3 4]\n",
      "An identity array: \n",
      " [[1 0]\n",
      " [0 1]]\n",
      "A random matrix: \n",
      "[[-0.08086131  1.12298206  1.63316869  1.27097869]\n",
      " [-0.78267859  1.11862667  2.45120483  3.04767698]]\n"
     ]
    }
   ],
   "source": [
    "import numpy as np #it is tradition to import numpy as np\n",
    "import math #math is the basic python math library - it does not allow vector operations\n",
    "\n",
    "#Square brackets create a list in Python\n",
    "a_list = [1, 2, 3, 4] \n",
    "#We can turn it into an array like so\n",
    "a_numpy_array = np.array(a_list) \n",
    "#We can also specify an array manually:\n",
    "an_identity_array = np.array([[1, 0], [0, 1]])\n",
    "#Parentheses create a tuple, which is an immutable data structure - useful for data we don't want to change \n",
    "dims = (2, 4)\n",
    "#Numpy has lots of matrix creation functionality - for instance, lets create a random matrix with dimensions\n",
    "#given by dims. The documentation for numpy random normal is at\n",
    "#https://docs.scipy.org/doc/numpy/reference/generated/numpy.random.normal.html - give this a look!\n",
    "a_random_2d_array = np.random.normal(1, 1, dims) \n",
    "#Double quotes denote a string - textual information. We can use format statements like below to inject variables \n",
    "#into strings.\n",
    "print(\"A list: {0}\".format(a_list))\n",
    "print(\"An array: {0}\".format(a_numpy_array))\n",
    "print(\"An identity array: \\n {0}\".format(an_identity_array))\n",
    "#note we have used a newline character \\n to force the array onto a new line to make the printing nicer.\n",
    "print(\"A random matrix: \\n{0}\".format(a_random_2d_array)) "
   ]
  },
  {
   "cell_type": "markdown",
   "metadata": {},
   "source": [
    "We can index Numpy arrays by slicing them, allowing us to extract and reassign elements at will. When slicing, a colon represents a range. The details of slicing are extensive, and you can review them at https://docs.scipy.org/doc/numpy/reference/arrays.indexing.html"
   ]
  },
  {
   "cell_type": "code",
   "execution_count": 21,
   "metadata": {
    "collapsed": false
   },
   "outputs": [
    {
     "name": "stdout",
     "output_type": "stream",
     "text": [
      "Our new array is \n",
      "[[1 0 5]\n",
      " [0 1 5]\n",
      " [0 0 5]]\n"
     ]
    }
   ],
   "source": [
    "soon_to_be_not_an_identity_array = np.array([[1, 0, 0], [0, 1, 0], [0, 0, 1]])\n",
    "#set the last column (index 2) to 5\n",
    "soon_to_be_not_an_identity_array[:, 2] = 5\n",
    "print(\"Our new array is \\n{0}\".format(soon_to_be_not_an_identity_array))"
   ]
  },
  {
   "cell_type": "markdown",
   "metadata": {},
   "source": [
    "Numpy arrays, unlike lists, allow us to operate apply mathematical operations to all of their elements without writing loops. "
   ]
  },
  {
   "cell_type": "code",
   "execution_count": 4,
   "metadata": {
    "collapsed": false
   },
   "outputs": [
    {
     "name": "stdout",
     "output_type": "stream",
     "text": [
      "The math module doesn't operate on lists, only scalars!\n",
      "The cause of the exception is: a float is required\n",
      "cos of the array [1 2 3 4] = [ 0.54030231 -0.41614684 -0.9899925  -0.65364362]\n"
     ]
    }
   ],
   "source": [
    "#try clauses allow us a way to use code that may or may not work and deal with any errors they cause\n",
    "try: \n",
    "    cos_a_list = math.cos(a_list)\n",
    "    print(\"cos of the list {0} = {1}\".format(a_list, cos_a_list))\n",
    "#we can catch a specific type of error as so - in this case, only TypeErrors will be handled, and anything else will\n",
    "#crash the code; for more info see https://docs.python.org/3.5/tutorial/errors.html\n",
    "except TypeError as e:\n",
    "    print(\"The math module doesn't operate on lists, only scalars!\")\n",
    "    print(\"The cause of the exception is: {0}\".format(e))\n",
    "\n",
    "try:\n",
    "    cos_a_numpy_array = np.cos(a_numpy_array)\n",
    "    print(\"cos of the array {0} = {1}\".format(a_numpy_array, cos_a_numpy_array))\n",
    "except TypeError as e:\n",
    "    print(\"You won't see this message, as numpy operates on multidimensional arrays.\")\n",
    "    print(\"The cause of the exception is: {0}\".format(e))"
   ]
  },
  {
   "cell_type": "markdown",
   "metadata": {},
   "source": [
    "It can be useful to think of 2d arrays as matricies, but numpy arrays can have as many dimensions as find useful"
   ]
  },
  {
   "cell_type": "code",
   "execution_count": 6,
   "metadata": {
    "collapsed": false
   },
   "outputs": [
    {
     "name": "stdout",
     "output_type": "stream",
     "text": [
      "Multiplying a 4-element vector and a 2x4 matrix is not a well defined operation\n",
      "The cause of the exception is: shapes (4,) and (2,4) not aligned: 4 (dim 0) != 2 (dim 0)\n",
      "Matrix product between a 2x4 matrix \n",
      " [[ 1.46445659  1.27360776  2.09433387  0.66499887]\n",
      " [ 0.3129682   2.17554373  0.24360723  1.1553658 ]] \n",
      " and a 4-element vector [1 2 3 4] = [ 12.9546692   10.01634053]\n"
     ]
    }
   ],
   "source": [
    "#in python 3.5 + , we can use the @ symbol to perform matrix multiplication between numpy arrays: \n",
    "#rank 1 arrays (like a_numpy_array) will be interpreted as either a row or column vector depending on context\n",
    "#but if neither works, \n",
    "try:\n",
    "    a_malformed_product = a_numpy_array @ a_random_2d_array\n",
    "    print(\"Matrix product between a 4-element vector {0} and a 2x4 matrix {1} = {2}\".format(a_numpy_array, \n",
    "                                                                                            a_random_2d_array, \n",
    "                                                                                            a_malformed_product))\n",
    "except ValueError as e:\n",
    "          print(\"Multiplying a 4-element vector and a 2x4 matrix is not a well defined operation\")\n",
    "          print(\"The cause of the exception is: {0}\".format(e))\n",
    "\n",
    "try:\n",
    "    a_good_product = a_random_2d_array @ a_numpy_array\n",
    "    print(\"Matrix product between a 2x4 matrix \\n {1} \\n and a 4-element vector {0} = {2}\".format(a_numpy_array, \n",
    "                                                                                                  a_random_2d_array, \n",
    "                                                                                                  a_good_product))\n",
    "except ValueError as e:\n",
    "          print(\"You won't see this message, as we have performed a good matrix operation\")\n",
    "          print(\"The cause of the exception is: {0}\".format(e))"
   ]
  },
  {
   "cell_type": "markdown",
   "metadata": {},
   "source": [
    "Since we have specified matplotlib to be inline, we can easily plot things as so: "
   ]
  },
  {
   "cell_type": "code",
   "execution_count": 14,
   "metadata": {
    "collapsed": false
   },
   "outputs": [
    {
     "data": {
      "text/plain": [
       "<matplotlib.text.Text at 0x113c4afd0>"
      ]
     },
     "execution_count": 14,
     "metadata": {},
     "output_type": "execute_result"
    },
    {
     "data": {
      "image/png": "[encoded data removed]",
      "text/plain": [
       "<matplotlib.figure.Figure at 0x113b134a8>"
      ]
     },
     "metadata": {},
     "output_type": "display_data"
    }
   ],
   "source": [
    "#linspace creates an array spanning an interval:\n",
    "x = np.linspace(0, 2*np.pi)\n",
    "y1 = np.sin(x)+x\n",
    "#we can specify a label for a legend by using a keyword argument - these are \n",
    "plt.plot(x, y1, label='Line 1')\n",
    "#two asterisks (**) is exponentiation in Python\n",
    "y2 = np.cos(x**2) \n",
    "#we can specify particular formatting like so\n",
    "plt.plot(x, y2, color='red', linestyle='dashed', label='Line 2')\n",
    "#we can set the plot limits \n",
    "plt.xlim(0, 2*np.pi)\n",
    "#if we have given our lines labels, as we have, we can easily add a legend\n",
    "plt.legend(loc=\"upper left\")\n",
    "#and we can add labels\n",
    "plt.xlabel(\"x (m)\", fontsize=16)\n",
    "plt.ylabel(\"y (m)\", fontsize=16)"
   ]
  },
  {
   "cell_type": "code",
   "execution_count": 36,
   "metadata": {
    "collapsed": false
   },
   "outputs": [
    {
     "data": {
      "text/plain": [
       "<matplotlib.collections.PathCollection at 0x1140eb780>"
      ]
     },
     "execution_count": 36,
     "metadata": {},
     "output_type": "execute_result"
    },
    {
     "data": {
      "image/png": "[encoded data removed]",
      "text/plain": [
       "<matplotlib.figure.Figure at 0x113fd6160>"
      ]
     },
     "metadata": {},
     "output_type": "display_data"
    }
   ],
   "source": [
    "x = np.random.uniform(0,10,100)\n",
    "y = 1.5*x + np.random.normal(0,1,100)\n",
    "plt.scatter(x,y)"
   ]
  },
  {
   "cell_type": "code",
   "execution_count": 50,
   "metadata": {
    "collapsed": false
   },
   "outputs": [
    {
     "data": {
      "text/plain": [
       "[<matplotlib.lines.Line2D at 0x114c3da90>]"
      ]
     },
     "execution_count": 50,
     "metadata": {},
     "output_type": "execute_result"
    },
    {
     "data": {
      "image/png": "[encoded data removed]",
      "text/plain": [
       "<matplotlib.figure.Figure at 0x114810f60>"
      ]
     },
     "metadata": {},
     "output_type": "display_data"
    }
   ],
   "source": [
    "plt.scatter(x, y)\n",
    "plt.plot(x, G_mat@np.array([0, 1.5]))\n",
    "plt.plot(x, G_mat@np.linalg.inv(G_mat.T@G_mat)@G_mat.T@y)"
   ]
  },
  {
   "cell_type": "code",
   "execution_count": 38,
   "metadata": {
    "collapsed": false
   },
   "outputs": [
    {
     "data": {
      "text/plain": [
       "array([    0.        ,  4760.92551137])"
      ]
     },
     "execution_count": 38,
     "metadata": {},
     "output_type": "execute_result"
    }
   ],
   "source": [
    "G_mat.T @ y"
   ]
  },
  {
   "cell_type": "markdown",
   "metadata": {},
   "source": [
    "## Downloading & Processing Waveforms"
   ]
  },
  {
   "cell_type": "markdown",
   "metadata": {},
   "source": [
    "Once we have identified an event of interest, we would naturally like some seismograms. Using the fdsn webservice through our IRIS client, we can download the data pertaining to our event. "
   ]
  },
  {
   "cell_type": "code",
   "execution_count": 1,
   "metadata": {
    "collapsed": false
   },
   "outputs": [
    {
     "ename": "NameError",
     "evalue": "name 'maule_catalogue' is not defined",
     "output_type": "error",
     "traceback": [
      "\u001b[0;31m---------------------------------------------------------------------------\u001b[0m",
      "\u001b[0;31mNameError\u001b[0m                                 Traceback (most recent call last)",
      "\u001b[0;32m<ipython-input-1-a22953a652c7>\u001b[0m in \u001b[0;36m<module>\u001b[0;34m()\u001b[0m\n\u001b[1;32m      4\u001b[0m \u001b[0mfirst\u001b[0m \u001b[0morigin\u001b[0m \u001b[0msolution\u001b[0m\u001b[0;34m.\u001b[0m \u001b[0mSo\u001b[0m \u001b[0mwe\u001b[0m \u001b[0mcan\u001b[0m \u001b[0mget\u001b[0m \u001b[0mthe\u001b[0m \u001b[0mevent\u001b[0m \u001b[0morigin\u001b[0m \u001b[0mtime\u001b[0m \u001b[0mby\u001b[0m\u001b[0;34m\u001b[0m\u001b[0m\n\u001b[1;32m      5\u001b[0m \"\"\"\n\u001b[0;32m----> 6\u001b[0;31m \u001b[0mevt_st\u001b[0m \u001b[0;34m=\u001b[0m \u001b[0mmaule_catalogue\u001b[0m\u001b[0;34m[\u001b[0m\u001b[0;36m0\u001b[0m\u001b[0;34m]\u001b[0m\u001b[0;34m.\u001b[0m\u001b[0morigins\u001b[0m\u001b[0;34m[\u001b[0m\u001b[0;36m0\u001b[0m\u001b[0;34m]\u001b[0m\u001b[0;34m.\u001b[0m\u001b[0mtime\u001b[0m\u001b[0;34m\u001b[0m\u001b[0m\n\u001b[0m\u001b[1;32m      7\u001b[0m \"\"\"\n\u001b[1;32m      8\u001b[0m \u001b[0mObtaining\u001b[0m \u001b[0mseismograms\u001b[0m \u001b[0;32mis\u001b[0m \u001b[0msimilar\u001b[0m \u001b[0mto\u001b[0m \u001b[0mgetting\u001b[0m \u001b[0mthe\u001b[0m \u001b[0mcatalogue\u001b[0m\u001b[0;34m;\u001b[0m \u001b[0mwe\u001b[0m \u001b[0mspecify\u001b[0m \u001b[0mthe\u001b[0m \u001b[0mseismic\u001b[0m \u001b[0mnetwork\u001b[0m\u001b[0;34m/\u001b[0m\u001b[0mstation\u001b[0m\u001b[0;34m/\u001b[0m\u001b[0mlocation\u001b[0m\u001b[0;34m/\u001b[0m\u001b[0mchannel\u001b[0m\u001b[0;34m,\u001b[0m\u001b[0;34m\u001b[0m\u001b[0m\n",
      "\u001b[0;31mNameError\u001b[0m: name 'maule_catalogue' is not defined"
     ]
    }
   ],
   "source": [
    "\"\"\"\n",
    "Our catalogue possibly contains multiple events, each with possibly multiple origin solutions. \n",
    "Since we know our catalogue only has one event it must occupy index 0, and likewise we are interested in the\n",
    "first origin solution. So we can get the event origin time by\n",
    "\"\"\"\n",
    "evt_st = maule_catalogue[0].origins[0].time\n",
    "\"\"\"\n",
    "Obtaining seismograms is similar to getting the catalogue; we specify the seismic network/station/location/channel, \n",
    "and start/end times. In this case, we are interested in CI.USC..BH(ENZ) channels - that is, the Southern California\n",
    "Seismic Network (CI) permanent station at the University of Southern California (USC). \n",
    "We don't care about the \"location\" parameter as we know a priori that CI network stations don't have them, and\n",
    "we want broadband high gain (BH) for all 3 components (we use the * wildcard to do this - alternatively \n",
    "we could manually write BHZ,BHN,BHE)\n",
    "\"\"\"\n",
    "seismograms = iris_client.get_waveforms(network = \"CI\", \n",
    "                                        station = \"USC\", \n",
    "                                        location = \"\", \n",
    "                                        channel = \"BH*\", \n",
    "                                        starttime = evt_st, \n",
    "                                        endtime = evt_st+3600)   "
   ]
  },
  {
   "cell_type": "markdown",
   "metadata": {},
   "source": [
    "Lets plot the data to see what it looks like"
   ]
  },
  {
   "cell_type": "code",
   "execution_count": null,
   "metadata": {
    "collapsed": true
   },
   "outputs": [],
   "source": [
    "#If the data is very complex, it can be sometimes useful to make lines thinner so you can see finer details\n",
    "seismograms.plot(linewidth=0.5)"
   ]
  },
  {
   "cell_type": "markdown",
   "metadata": {},
   "source": [
    "### Task 1.2\n",
    "\n",
    "Identify at what times the P-waves, S-waves, Love-waves and Rayleigh-waves arrive at USC. How do you know which is which? \n",
    "\n",
    "#### Your Answer:\n",
    "\n",
    "##### Example good answer (of explanations):\n",
    "- P-wave - arrives first\n",
    "- S-wave - arrives second; lower frequency\n",
    "- Love-wave - arrives third, very low frequency / not seen on vertical component\n",
    "- Rayleigh-wave - arrives last, can see dispersion with low-frequency arriving first and frequency increasing with time. "
   ]
  },
  {
   "cell_type": "markdown",
   "metadata": {},
   "source": [
    "We can easily make plots of the seismograms at different frequencies by filtering them. To facilitate working with large datasets, Obspy does most of its processing in-place (this saves memory); however, we want to do lots of things with the data and only have a small dataset, so we should be careful to copy the data before operating on it. **If you accidentally process the original data, you must re-download it!** Let's look at the high frequency component."
   ]
  },
  {
   "cell_type": "code",
   "execution_count": null,
   "metadata": {
    "collapsed": true
   },
   "outputs": [],
   "source": [
    "#Basically everything in Python is an object on which you can call methods; since these generally\n",
    "#also return objects, we can call methods on those etc, allowing us to chain together operations like\n",
    "#copying and filtering as shown below:\n",
    "hf_seismograms = seismograms.copy().filter('bandpass', freqmin=0.5, freqmax=10)\n",
    "hf_seismograms.plot(linewidth=0.5)"
   ]
  },
  {
   "cell_type": "markdown",
   "metadata": {},
   "source": [
    "### Task 1.1\n",
    "\n",
    "One of the "
   ]
  },
  {
   "cell_type": "markdown",
   "metadata": {},
   "source": [
    "## Introduction to obspy\n"
   ]
  },
  {
   "cell_type": "markdown",
   "metadata": {},
   "source": []
  }
 ],
 "metadata": {
  "anaconda-cloud": {},
  "kernelspec": {
   "display_name": "Python [default]",
   "language": "python",
   "name": "python3"
  },
  "language_info": {
   "codemirror_mode": {
    "name": "ipython",
    "version": 3
   },
   "file_extension": ".py",
   "mimetype": "text/x-python",
   "name": "python",
   "nbconvert_exporter": "python",
   "pygments_lexer": "ipython3",
   "version": "3.5.2"
  }
 },
 "nbformat": 4,
 "nbformat_minor": 1
}
